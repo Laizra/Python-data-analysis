{
 "cells": [
  {
   "cell_type": "code",
   "execution_count": 3,
   "metadata": {},
   "outputs": [],
   "source": [
    "import pandas as pd\n",
    "\n",
    "data = pd.read_csv(r\"C:\\Users\\Hp\\Downloads\\7. Udemy Courses.csv\")"
   ]
  },
  {
   "cell_type": "code",
   "execution_count": 5,
   "metadata": {},
   "outputs": [
    {
     "data": {
      "text/plain": [
       "array(['Musical Instruments', 'Business Finance', 'Graphic Design',\n",
       "       'Web Development'], dtype=object)"
      ]
     },
     "execution_count": 5,
     "metadata": {},
     "output_type": "execute_result"
    }
   ],
   "source": [
    "# show all unique values present in columns\n",
    "data.subject.unique()"
   ]
  },
  {
   "cell_type": "code",
   "execution_count": 6,
   "metadata": {},
   "outputs": [
    {
     "data": {
      "text/plain": [
       "Web Development        1200\n",
       "Business Finance       1199\n",
       "Musical Instruments     680\n",
       "Graphic Design          603\n",
       "Name: subject, dtype: int64"
      ]
     },
     "execution_count": 6,
     "metadata": {},
     "output_type": "execute_result"
    }
   ],
   "source": [
    "data.subject.value_counts()"
   ]
  },
  {
   "cell_type": "code",
   "execution_count": null,
   "metadata": {},
   "outputs": [],
   "source": [
    "data.sort_values(\"num_subscribers\", ascending=False)"
   ]
  },
  {
   "cell_type": "code",
   "execution_count": null,
   "metadata": {},
   "outputs": [],
   "source": [
    "data.sort_values(\"num_subscribers\")"
   ]
  },
  {
   "cell_type": "code",
   "execution_count": null,
   "metadata": {},
   "outputs": [],
   "source": [
    "# data[(data.subject == \"Graphic Design\") & (data.price < \"100\")]    no result\n",
    "data[(data.subject == \"Graphic Design\") & (data.price == \"100\")]"
   ]
  },
  {
   "cell_type": "code",
   "execution_count": 20,
   "metadata": {},
   "outputs": [
    {
     "data": {
      "text/plain": [
       "29"
      ]
     },
     "execution_count": 20,
     "metadata": {},
     "output_type": "execute_result"
    }
   ],
   "source": [
    "# all courses related to Python\n",
    "len(data[data.course_title.str.contains(\"Python\")])"
   ]
  },
  {
   "cell_type": "code",
   "execution_count": null,
   "metadata": {},
   "outputs": [],
   "source": [
    "#courses published in 2015\n",
    "data.dtypes"
   ]
  },
  {
   "cell_type": "code",
   "execution_count": 29,
   "metadata": {},
   "outputs": [],
   "source": [
    "# convert object datatype to datetime to manipulate dates and times\n",
    "data[\"published_timestamp\"] = pd.to_datetime(data.published_timestamp)"
   ]
  },
  {
   "cell_type": "code",
   "execution_count": 31,
   "metadata": {},
   "outputs": [],
   "source": [
    "# seperate years from datetime column\n",
    "\n",
    "data[\"Year\"] = data[\"published_timestamp\"].dt.year"
   ]
  },
  {
   "cell_type": "code",
   "execution_count": null,
   "metadata": {},
   "outputs": [],
   "source": [
    "data[data.Year == 2015]"
   ]
  },
  {
   "cell_type": "code",
   "execution_count": 33,
   "metadata": {},
   "outputs": [
    {
     "data": {
      "text/plain": [
       "array(['All Levels', 'Intermediate Level', 'Beginner Level',\n",
       "       'Expert Level'], dtype=object)"
      ]
     },
     "execution_count": 33,
     "metadata": {},
     "output_type": "execute_result"
    }
   ],
   "source": [
    "data.level.unique()"
   ]
  },
  {
   "cell_type": "code",
   "execution_count": 34,
   "metadata": {},
   "outputs": [
    {
     "data": {
      "text/plain": [
       "level\n",
       "All Levels            268923\n",
       "Beginner Level        161029\n",
       "Expert Level            5172\n",
       "Intermediate Level     29167\n",
       "Name: num_subscribers, dtype: int64"
      ]
     },
     "execution_count": 34,
     "metadata": {},
     "output_type": "execute_result"
    }
   ],
   "source": [
    "data.groupby(\"level\")[\"num_subscribers\"].max()"
   ]
  },
  {
   "cell_type": "code",
   "execution_count": 35,
   "metadata": {},
   "outputs": [
    {
     "data": {
      "text/html": [
       "<div>\n",
       "<style scoped>\n",
       "    .dataframe tbody tr th:only-of-type {\n",
       "        vertical-align: middle;\n",
       "    }\n",
       "\n",
       "    .dataframe tbody tr th {\n",
       "        vertical-align: top;\n",
       "    }\n",
       "\n",
       "    .dataframe thead th {\n",
       "        text-align: right;\n",
       "    }\n",
       "</style>\n",
       "<table border=\"1\" class=\"dataframe\">\n",
       "  <thead>\n",
       "    <tr style=\"text-align: right;\">\n",
       "      <th></th>\n",
       "      <th>course_id</th>\n",
       "      <th>course_title</th>\n",
       "      <th>is_paid</th>\n",
       "      <th>price</th>\n",
       "      <th>num_subscribers</th>\n",
       "      <th>num_reviews</th>\n",
       "      <th>num_lectures</th>\n",
       "      <th>content_duration</th>\n",
       "      <th>published_timestamp</th>\n",
       "      <th>subject</th>\n",
       "      <th>Year</th>\n",
       "    </tr>\n",
       "    <tr>\n",
       "      <th>level</th>\n",
       "      <th></th>\n",
       "      <th></th>\n",
       "      <th></th>\n",
       "      <th></th>\n",
       "      <th></th>\n",
       "      <th></th>\n",
       "      <th></th>\n",
       "      <th></th>\n",
       "      <th></th>\n",
       "      <th></th>\n",
       "      <th></th>\n",
       "    </tr>\n",
       "  </thead>\n",
       "  <tbody>\n",
       "    <tr>\n",
       "      <th>All Levels</th>\n",
       "      <td>1277924</td>\n",
       "      <td>６時間でインターバンク市場を攻略！最短距離でトレード基礎力</td>\n",
       "      <td>True</td>\n",
       "      <td>Free</td>\n",
       "      <td>268923</td>\n",
       "      <td>27445</td>\n",
       "      <td>544</td>\n",
       "      <td>9.5 hours</td>\n",
       "      <td>2017-07-06 21:16:13+00:00</td>\n",
       "      <td>Web Development</td>\n",
       "      <td>2017</td>\n",
       "    </tr>\n",
       "    <tr>\n",
       "      <th>Beginner Level</th>\n",
       "      <td>1282064</td>\n",
       "      <td>７日でマスター  ビギナー向け Adobe Illustrator　どきどきセミナー</td>\n",
       "      <td>True</td>\n",
       "      <td>Free</td>\n",
       "      <td>161029</td>\n",
       "      <td>5924</td>\n",
       "      <td>779</td>\n",
       "      <td>9.5 hours</td>\n",
       "      <td>2017-07-06 21:46:30+00:00</td>\n",
       "      <td>Web Development</td>\n",
       "      <td>2017</td>\n",
       "    </tr>\n",
       "    <tr>\n",
       "      <th>Expert Level</th>\n",
       "      <td>1275790</td>\n",
       "      <td>[Value Investing] Where White People Keep Thei...</td>\n",
       "      <td>True</td>\n",
       "      <td>95</td>\n",
       "      <td>5172</td>\n",
       "      <td>249</td>\n",
       "      <td>157</td>\n",
       "      <td>9 hours</td>\n",
       "      <td>2017-07-04 18:08:01+00:00</td>\n",
       "      <td>Web Development</td>\n",
       "      <td>2017</td>\n",
       "    </tr>\n",
       "    <tr>\n",
       "      <th>Intermediate Level</th>\n",
       "      <td>1276182</td>\n",
       "      <td>株式投資で本当のテクニカル分析ができるようになる</td>\n",
       "      <td>True</td>\n",
       "      <td>Free</td>\n",
       "      <td>29167</td>\n",
       "      <td>3326</td>\n",
       "      <td>320</td>\n",
       "      <td>9.5 hours</td>\n",
       "      <td>2017-07-05 04:41:54+00:00</td>\n",
       "      <td>Web Development</td>\n",
       "      <td>2017</td>\n",
       "    </tr>\n",
       "  </tbody>\n",
       "</table>\n",
       "</div>"
      ],
      "text/plain": [
       "                    course_id  \\\n",
       "level                           \n",
       "All Levels            1277924   \n",
       "Beginner Level        1282064   \n",
       "Expert Level          1275790   \n",
       "Intermediate Level    1276182   \n",
       "\n",
       "                                                         course_title  \\\n",
       "level                                                                   \n",
       "All Levels                              ６時間でインターバンク市場を攻略！最短距離でトレード基礎力   \n",
       "Beginner Level             ７日でマスター  ビギナー向け Adobe Illustrator　どきどきセミナー   \n",
       "Expert Level        [Value Investing] Where White People Keep Thei...   \n",
       "Intermediate Level                           株式投資で本当のテクニカル分析ができるようになる   \n",
       "\n",
       "                    is_paid price  num_subscribers  num_reviews  num_lectures  \\\n",
       "level                                                                           \n",
       "All Levels             True  Free           268923        27445           544   \n",
       "Beginner Level         True  Free           161029         5924           779   \n",
       "Expert Level           True    95             5172          249           157   \n",
       "Intermediate Level     True  Free            29167         3326           320   \n",
       "\n",
       "                   content_duration       published_timestamp  \\\n",
       "level                                                           \n",
       "All Levels                9.5 hours 2017-07-06 21:16:13+00:00   \n",
       "Beginner Level            9.5 hours 2017-07-06 21:46:30+00:00   \n",
       "Expert Level                9 hours 2017-07-04 18:08:01+00:00   \n",
       "Intermediate Level        9.5 hours 2017-07-05 04:41:54+00:00   \n",
       "\n",
       "                            subject  Year  \n",
       "level                                      \n",
       "All Levels          Web Development  2017  \n",
       "Beginner Level      Web Development  2017  \n",
       "Expert Level        Web Development  2017  \n",
       "Intermediate Level  Web Development  2017  "
      ]
     },
     "execution_count": 35,
     "metadata": {},
     "output_type": "execute_result"
    }
   ],
   "source": [
    "data.groupby(\"level\").max()"
   ]
  }
 ],
 "metadata": {
  "kernelspec": {
   "display_name": "Python 3",
   "language": "python",
   "name": "python3"
  },
  "language_info": {
   "codemirror_mode": {
    "name": "ipython",
    "version": 3
   },
   "file_extension": ".py",
   "mimetype": "text/x-python",
   "name": "python",
   "nbconvert_exporter": "python",
   "pygments_lexer": "ipython3",
   "version": "3.11.1"
  },
  "orig_nbformat": 4,
  "vscode": {
   "interpreter": {
    "hash": "bdb715d3f28895bf8d1f1f0337a53a101c9666f588645ae97659721ee0d271c0"
   }
  }
 },
 "nbformat": 4,
 "nbformat_minor": 2
}
