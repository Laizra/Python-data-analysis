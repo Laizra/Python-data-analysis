{
 "cells": [
  {
   "attachments": {},
   "cell_type": "markdown",
   "metadata": {},
   "source": [
    "The Weather Dataset (A part of Big Data Analysis)"
   ]
  },
  {
   "cell_type": "code",
   "execution_count": 2,
   "metadata": {},
   "outputs": [],
   "source": [
    "import pandas as pd"
   ]
  },
  {
   "cell_type": "code",
   "execution_count": null,
   "metadata": {},
   "outputs": [],
   "source": [
    "#fixed error with r at the beginning or double backslash\n",
    "data = pd.read_csv(\"C:\\\\Users\\\\Hp\\\\Downloads\\\\1. Weather Data.csv\")\n",
    "data"
   ]
  },
  {
   "cell_type": "code",
   "execution_count": null,
   "metadata": {},
   "outputs": [],
   "source": [
    "#defalut shows 5 rows\n",
    "data.head()"
   ]
  },
  {
   "cell_type": "code",
   "execution_count": null,
   "metadata": {},
   "outputs": [],
   "source": [
    "#shows number of columns and rows\n",
    "data.shape"
   ]
  },
  {
   "cell_type": "code",
   "execution_count": null,
   "metadata": {},
   "outputs": [],
   "source": [
    "#provides index of data frame\n",
    "data.index"
   ]
  },
  {
   "cell_type": "code",
   "execution_count": null,
   "metadata": {},
   "outputs": [],
   "source": [
    "#shows dataframe's column names\n",
    "data.columns"
   ]
  },
  {
   "cell_type": "code",
   "execution_count": null,
   "metadata": {},
   "outputs": [],
   "source": [
    "# shows data type of each column\n",
    "data.dtypes"
   ]
  },
  {
   "cell_type": "code",
   "execution_count": null,
   "metadata": {},
   "outputs": [],
   "source": [
    "#shows all unique commands, can be applied on one column only\n",
    "#syntax: dataframe name, column name .command\n",
    "data[\"Weather\"].unique()"
   ]
  },
  {
   "cell_type": "code",
   "execution_count": null,
   "metadata": {},
   "outputs": [],
   "source": [
    "#shows total number of unique values in each column, can be applied on one column only\n",
    "data.nunique()"
   ]
  },
  {
   "cell_type": "code",
   "execution_count": null,
   "metadata": {},
   "outputs": [],
   "source": [
    "#shows total number of non null values in each column, can be applied on one column only\n",
    "data.count()"
   ]
  },
  {
   "cell_type": "code",
   "execution_count": null,
   "metadata": {},
   "outputs": [],
   "source": [
    "#shows all unique data with their count, can be applied on one column only\n",
    "data[\"Weather\"].value_counts()"
   ]
  },
  {
   "cell_type": "code",
   "execution_count": null,
   "metadata": {},
   "outputs": [],
   "source": [
    "#provides basic information about dataframe\n",
    "data.info()"
   ]
  },
  {
   "attachments": {},
   "cell_type": "markdown",
   "metadata": {},
   "source": [
    "2nd section: finding all miniscule values in the data"
   ]
  },
  {
   "cell_type": "code",
   "execution_count": null,
   "metadata": {},
   "outputs": [],
   "source": [
    "# Finding all unique \"Wind speed\" values\n",
    "# the space at the end of \"Wind Speed_km/h \" caused an error\n",
    "data.head(2)\n",
    "data.nunique()\n",
    "data[\"Wind Speed_km/h\"].unique() # answer"
   ]
  },
  {
   "cell_type": "code",
   "execution_count": null,
   "metadata": {},
   "outputs": [],
   "source": [
    "data.head(2)\n",
    "data.Weather.value_counts()\n",
    "# Filtering\n",
    "# data.Weather == \"Clear\" # shows boolean values. command in [] to show required output\n",
    "data[data.Weather == \"Clear\"]"
   ]
  },
  {
   "cell_type": "code",
   "execution_count": null,
   "metadata": {},
   "outputs": [],
   "source": [
    "# get element clearn from Weather row\n",
    "data.groupby(\"Weather\").get_group(\"Clear\")"
   ]
  },
  {
   "cell_type": "code",
   "execution_count": null,
   "metadata": {},
   "outputs": [],
   "source": [
    "# find number of times wind speed was 4 km/h\n",
    "data.head(2)\n",
    "data[data[\"Wind Speed_km/h\"] == 4]"
   ]
  },
  {
   "cell_type": "code",
   "execution_count": null,
   "metadata": {},
   "outputs": [],
   "source": [
    "# data.isnull() gives boolean value\n",
    "data.isnull().sum()\n",
    "\n",
    "data.notnull().sum()"
   ]
  },
  {
   "cell_type": "code",
   "execution_count": null,
   "metadata": {},
   "outputs": [],
   "source": [
    "# rename dataframe column Weather \n",
    "# data.rename(columns = {\"Weather\": \"Weather Conditions\"}) is only for this command\n",
    "data.rename(columns = {\"Weather\": \"Weather Conditions\"}, inplace = True) \n",
    "data.head()\n",
    "#inplace = True makes it permanent"
   ]
  },
  {
   "cell_type": "code",
   "execution_count": 52,
   "metadata": {},
   "outputs": [
    {
     "data": {
      "text/plain": [
       "27.664446721311478"
      ]
     },
     "execution_count": 52,
     "metadata": {},
     "output_type": "execute_result"
    }
   ],
   "source": [
    "# mean() function is used to calculate the mean/average of input values or data set\n",
    "data.Visibility_km.mean()"
   ]
  },
  {
   "cell_type": "code",
   "execution_count": 54,
   "metadata": {},
   "outputs": [
    {
     "data": {
      "text/plain": [
       "0.8440047459486483"
      ]
     },
     "execution_count": 54,
     "metadata": {},
     "output_type": "execute_result"
    }
   ],
   "source": [
    "# shows standard deviation\n",
    "data.Press_kPa.std()"
   ]
  },
  {
   "cell_type": "code",
   "execution_count": 55,
   "metadata": {},
   "outputs": [
    {
     "data": {
      "text/plain": [
       "286.24855019850196"
      ]
     },
     "execution_count": 55,
     "metadata": {},
     "output_type": "execute_result"
    }
   ],
   "source": [
    "# spaces in column name use [\"nameofcolumn\"], no spaces just use .nameofcolumn\n",
    "data[\"Rel Hum_%\"].var()"
   ]
  },
  {
   "cell_type": "code",
   "execution_count": null,
   "metadata": {},
   "outputs": [],
   "source": [
    "# find all snow instances, 3 solutions 1: value_counts \n",
    "data[\"Weather Conditions\"].value_counts()"
   ]
  },
  {
   "cell_type": "code",
   "execution_count": null,
   "metadata": {},
   "outputs": [],
   "source": [
    "# 2: Filtering\n",
    "data[data[\"Weather Conditions\"] == \"Snow\"]"
   ]
  },
  {
   "cell_type": "code",
   "execution_count": null,
   "metadata": {},
   "outputs": [],
   "source": [
    "# 3: str.contains, used if we want to consider ALL columns containing \"Snow\"\n",
    "data[data[\"Weather Conditions\"].str.contains(\"Snow\")].head(50)"
   ]
  },
  {
   "cell_type": "code",
   "execution_count": null,
   "metadata": {},
   "outputs": [],
   "source": [
    "# \n",
    "data.head()\n",
    "# data[data[\"Wind Speed_km/h\"] > 24]\n",
    "# data[(data[\"Wind Speed_km/h\"] > 24) & (data[\"Visibility_km\"] == 25)]"
   ]
  },
  {
   "cell_type": "code",
   "execution_count": null,
   "metadata": {},
   "outputs": [],
   "source": [
    "# find mean of all columns of weather conditions\n",
    "data.groupby(\"Weather Conditions\").mean()"
   ]
  },
  {
   "cell_type": "code",
   "execution_count": null,
   "metadata": {},
   "outputs": [],
   "source": [
    "# what's the min and max value of each column of weather conditions\n",
    "data.groupby(\"Weather Conditions\").max()"
   ]
  },
  {
   "cell_type": "code",
   "execution_count": null,
   "metadata": {},
   "outputs": [],
   "source": [
    "data[data[\"Weather Conditions\"] == \"Fog\"]"
   ]
  },
  {
   "cell_type": "code",
   "execution_count": null,
   "metadata": {},
   "outputs": [],
   "source": [
    "# did and fixed all the syntax by myself on this one, yay. Except for |\n",
    "# the one I made: data[(data[\"Weather Conditions\"] == \"Clear\") & (data[\"Visibility_km\"] > 40)]\n",
    "data[(data[\"Weather Conditions\"] == \"Clear\") | (data[\"Visibility_km\"] > 40)].head(50)"
   ]
  },
  {
   "cell_type": "code",
   "execution_count": null,
   "metadata": {},
   "outputs": [],
   "source": [
    "#  Weather is clear and Relative humidity is greater than 50 OR visibility above 40\n",
    "# Did this 100% myself, verified after\n",
    "data[(data[\"Weather Conditions\"] == \"Clear\") & (data[\"Rel Hum_%\"] > 50) | (data[\"Visibility_km\"] > 40)] "
   ]
  },
  {
   "cell_type": "code",
   "execution_count": null,
   "metadata": {},
   "outputs": [],
   "source": []
  }
 ],
 "metadata": {
  "kernelspec": {
   "display_name": "Python 3",
   "language": "python",
   "name": "python3"
  },
  "language_info": {
   "codemirror_mode": {
    "name": "ipython",
    "version": 3
   },
   "file_extension": ".py",
   "mimetype": "text/x-python",
   "name": "python",
   "nbconvert_exporter": "python",
   "pygments_lexer": "ipython3",
   "version": "3.11.1"
  },
  "orig_nbformat": 4,
  "vscode": {
   "interpreter": {
    "hash": "bdb715d3f28895bf8d1f1f0337a53a101c9666f588645ae97659721ee0d271c0"
   }
  }
 },
 "nbformat": 4,
 "nbformat_minor": 2
}
