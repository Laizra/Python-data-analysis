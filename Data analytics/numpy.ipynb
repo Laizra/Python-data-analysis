{
 "cells": [
  {
   "cell_type": "code",
   "execution_count": 3,
   "metadata": {},
   "outputs": [],
   "source": [
    "import numpy as np \n",
    "#default value is float"
   ]
  },
  {
   "cell_type": "code",
   "execution_count": null,
   "metadata": {},
   "outputs": [],
   "source": [
    "A1 = np.array([1, 2, 3, 4])\n",
    "print(A1)\n",
    "type(A1)\n",
    "A1.shape"
   ]
  },
  {
   "cell_type": "code",
   "execution_count": 21,
   "metadata": {},
   "outputs": [
    {
     "name": "stdout",
     "output_type": "stream",
     "text": [
      "[[1 2 3 4]\n",
      " [5 6 7 8]]\n"
     ]
    },
    {
     "data": {
      "text/plain": [
       "2"
      ]
     },
     "execution_count": 21,
     "metadata": {},
     "output_type": "execute_result"
    }
   ],
   "source": [
    "A2 = np.array([[1, 2, 3, 4], [5, 6, 7, 8]])\n",
    "print(A2)\n",
    "A2.ndim"
   ]
  },
  {
   "cell_type": "code",
   "execution_count": 22,
   "metadata": {},
   "outputs": [
    {
     "name": "stdout",
     "output_type": "stream",
     "text": [
      "[[ 1  2  3  4]\n",
      " [ 5  6  7  8]\n",
      " [ 9 10 11 12]]\n",
      "2\n"
     ]
    },
    {
     "data": {
      "text/plain": [
       "12"
      ]
     },
     "execution_count": 22,
     "metadata": {},
     "output_type": "execute_result"
    }
   ],
   "source": [
    "A3 = np.array([[1, 2, 3, 4], [5, 6, 7, 8], [9, 10, 11, 12]])\n",
    "print(A3)\n",
    "print(A3.shape)\n",
    "A3.size"
   ]
  },
  {
   "cell_type": "code",
   "execution_count": null,
   "metadata": {},
   "outputs": [],
   "source": [
    "z1 = np.zeros(3, dtype=int)\n",
    "z1"
   ]
  },
  {
   "cell_type": "code",
   "execution_count": null,
   "metadata": {},
   "outputs": [],
   "source": [
    "z2 = np.zeros((3, 4), dtype=int)\n",
    "z2"
   ]
  },
  {
   "cell_type": "code",
   "execution_count": null,
   "metadata": {},
   "outputs": [],
   "source": [
    "#amounts: array, columns, rows\n",
    "z3 = np.zeros((2, 3, 4), dtype=int)\n",
    "z3"
   ]
  },
  {
   "cell_type": "code",
   "execution_count": 4,
   "metadata": {},
   "outputs": [
    {
     "name": "stdout",
     "output_type": "stream",
     "text": [
      "[55 55 55]\n"
     ]
    }
   ],
   "source": [
    "#full array default value is integer\n",
    "f1 = np.full(3, 55)\n",
    "print(f1)"
   ]
  },
  {
   "cell_type": "code",
   "execution_count": 24,
   "metadata": {},
   "outputs": [
    {
     "name": "stdout",
     "output_type": "stream",
     "text": [
      "[[67 67 67]\n",
      " [67 67 67]]\n"
     ]
    }
   ],
   "source": [
    "f2 = np.full((2, 3), 67)\n",
    "print(f2)"
   ]
  },
  {
   "cell_type": "code",
   "execution_count": 23,
   "metadata": {},
   "outputs": [
    {
     "name": "stdout",
     "output_type": "stream",
     "text": [
      "[[['Python' 'Python' 'Python' 'Python']\n",
      "  ['Python' 'Python' 'Python' 'Python']\n",
      "  ['Python' 'Python' 'Python' 'Python']]\n",
      "\n",
      " [['Python' 'Python' 'Python' 'Python']\n",
      "  ['Python' 'Python' 'Python' 'Python']\n",
      "  ['Python' 'Python' 'Python' 'Python']]]\n"
     ]
    },
    {
     "data": {
      "text/plain": [
       "3"
      ]
     },
     "execution_count": 23,
     "metadata": {},
     "output_type": "execute_result"
    }
   ],
   "source": [
    "f3 = np.full((2, 3, 4), \"Python\")\n",
    "print(f3)\n",
    "np.ndim(f3)"
   ]
  },
  {
   "attachments": {},
   "cell_type": "markdown",
   "metadata": {},
   "source": [
    "numpy random module:"
   ]
  },
  {
   "cell_type": "code",
   "execution_count": null,
   "metadata": {},
   "outputs": [],
   "source": [
    "from numpy import random\n",
    "\n",
    "np.random.random()"
   ]
  },
  {
   "cell_type": "code",
   "execution_count": 38,
   "metadata": {},
   "outputs": [
    {
     "name": "stdout",
     "output_type": "stream",
     "text": [
      "[0.33636409 0.77567089 0.08082378]\n",
      "[[[0.81852446 0.15748249 0.76047006 0.89172911 0.4095427 ]\n",
      "  [0.76768071 0.9900526  0.11033373 0.77730358 0.21440735]\n",
      "  [0.17012405 0.84192019 0.52033113 0.01187458 0.82540547]]\n",
      "\n",
      " [[0.54064803 0.44808809 0.38091636 0.2159958  0.98797224]\n",
      "  [0.05274698 0.12983102 0.81244954 0.16524289 0.29499924]\n",
      "  [0.13957497 0.70073853 0.61712162 0.33320029 0.02072831]]]\n"
     ]
    }
   ],
   "source": [
    "#default value: float. \n",
    "#generates random floating numbers in the range[0.1, 1.0)\n",
    "#\n",
    "r1 = np.random.random(3)\n",
    "print(r1)\n",
    "r2 = np.random.random((2, 3, 5))\n",
    "print(r2)"
   ]
  },
  {
   "cell_type": "code",
   "execution_count": 45,
   "metadata": {},
   "outputs": [
    {
     "data": {
      "text/plain": [
       "array([ 8, 12,  7,  2, 10])"
      ]
     },
     "execution_count": 45,
     "metadata": {},
     "output_type": "execute_result"
    }
   ],
   "source": [
    "#range min, range max, needed amount\n",
    "np.random.randint(2, 13, 5)"
   ]
  },
  {
   "cell_type": "code",
   "execution_count": 46,
   "metadata": {},
   "outputs": [
    {
     "data": {
      "text/plain": [
       "array([-1.16802835, -0.08399547, -1.52151721,  0.00348471])"
      ]
     },
     "execution_count": 46,
     "metadata": {},
     "output_type": "execute_result"
    }
   ],
   "source": [
    "#randn returns float numbers in random both negative and positive\n",
    "#in form of array\n",
    "np.random.randn(4)"
   ]
  },
  {
   "cell_type": "code",
   "execution_count": 19,
   "metadata": {},
   "outputs": [
    {
     "data": {
      "text/plain": [
       "array([2.71222171, 1.27295358, 3.12733147, 1.63033463, 1.56176119,\n",
       "       2.48540079, 2.21266377, 1.57237399, 1.00484266, 2.06576367])"
      ]
     },
     "execution_count": 19,
     "metadata": {},
     "output_type": "execute_result"
    }
   ],
   "source": [
    "#range, range max, necessary amount\n",
    "np.random.uniform(1, 4, 10)"
   ]
  },
  {
   "cell_type": "code",
   "execution_count": 51,
   "metadata": {},
   "outputs": [
    {
     "data": {
      "text/plain": [
       "array([ 4,  4, 87,  4])"
      ]
     },
     "execution_count": 51,
     "metadata": {},
     "output_type": "execute_result"
    }
   ],
   "source": [
    "#selg¿f explanatory title\n",
    "np.random.choice([2, 4, 6, 3, 1, 65, 87, 9])\n",
    "\n",
    "np.random.choice([2, 4, 6, 3, 1, 65, 87, 9], 4)"
   ]
  },
  {
   "cell_type": "code",
   "execution_count": 13,
   "metadata": {},
   "outputs": [
    {
     "data": {
      "text/plain": [
       "array([ 4, 65,  2,  6,  1, 87,  9])"
      ]
     },
     "execution_count": 13,
     "metadata": {},
     "output_type": "execute_result"
    }
   ],
   "source": [
    "np.random.choice(21, 30)\n",
    "#replace means repeat numbers, set to false means no repeated numbers\n",
    "np.random.choice([2, 4, 6, 3, 1, 65, 87, 9], size=7, replace=False)"
   ]
  },
  {
   "cell_type": "code",
   "execution_count": 57,
   "metadata": {},
   "outputs": [
    {
     "name": "stdout",
     "output_type": "stream",
     "text": [
      "[ 2.  4.  6.  8. 10. 12. 14. 16. 18. 20.]\n"
     ]
    }
   ],
   "source": [
    "#returns evenly spaced values\n",
    "#start value, end value and numbers needed\n",
    "A = np.linspace(2, 20, num=10)\n",
    "print(A)\n",
    "#endpoint= False if we don't want \"20\" to show: num=10, endpoint=False\n",
    "#retstep shows spacing betwen values\n"
   ]
  },
  {
   "cell_type": "code",
   "execution_count": null,
   "metadata": {},
   "outputs": [],
   "source": [
    "#all possible linearly distributed values\n",
    "A = np.linspace(2, 20)\n",
    "print(A)"
   ]
  },
  {
   "cell_type": "code",
   "execution_count": 68,
   "metadata": {},
   "outputs": [
    {
     "name": "stdout",
     "output_type": "stream",
     "text": [
      "[None None None None None]\n",
      "[[      0       0       0]\n",
      " [      0       0       0]\n",
      " [      0       0       0]\n",
      " [      0    1656       0]\n",
      " [      0 6357091       0]]\n"
     ]
    }
   ],
   "source": [
    "a = np.empty(5, dtype=object)\n",
    "print(a)\n",
    "\n",
    "b = np.empty((5, 3), dtype=int)\n",
    "print(b)\n",
    "#can create arbitrary numbers"
   ]
  },
  {
   "cell_type": "code",
   "execution_count": null,
   "metadata": {},
   "outputs": [],
   "source": [
    "#k is index of diagonal\n",
    "b = np.eye(4, k=1)\n",
    "print(b)\n",
    "print(\"\\n\")\n",
    "c = np.eye(4)\n",
    "print(c)\n",
    "print(\"\\n\")\n",
    "d = np.eye(4, k=-2)\n",
    "print(d)\n",
    "print(\"\\n\")\n",
    "e = np.eye(5, dtype=str)\n",
    "print(e)"
   ]
  },
  {
   "cell_type": "code",
   "execution_count": 35,
   "metadata": {},
   "outputs": [
    {
     "name": "stdout",
     "output_type": "stream",
     "text": [
      "[[1 0 0 0]\n",
      " [0 1 0 0]\n",
      " [0 0 1 0]\n",
      " [0 0 0 1]]\n",
      "\n",
      "\n",
      "[[21  0  0  0]\n",
      " [ 0 21  0  0]\n",
      " [ 0  0 21  0]\n",
      " [ 0  0  0 21]]\n"
     ]
    }
   ],
   "source": [
    "# identity matrix a square matrix with 1s on main diagonal\n",
    "# change number to 21\n",
    "A = np.identity(4, dtype=int)\n",
    "B = A * 21\n",
    "print(A)\n",
    "print(\"\\n\")\n",
    "print(B)\n"
   ]
  },
  {
   "cell_type": "code",
   "execution_count": 33,
   "metadata": {},
   "outputs": [
    {
     "data": {
      "text/plain": [
       "1"
      ]
     },
     "execution_count": 33,
     "metadata": {},
     "output_type": "execute_result"
    }
   ],
   "source": [
    "#simple 1D array\n",
    "B = np.array([1, 2, 3, 4, 5])\n",
    "np.diag(B, k=0)"
   ]
  },
  {
   "cell_type": "code",
   "execution_count": 31,
   "metadata": {},
   "outputs": [
    {
     "name": "stdout",
     "output_type": "stream",
     "text": [
      "[[1 2 3]\n",
      " [4 5 6]\n",
      " [7 8 9]]\n"
     ]
    },
    {
     "data": {
      "text/plain": [
       "array([2, 6])"
      ]
     },
     "execution_count": 31,
     "metadata": {},
     "output_type": "execute_result"
    }
   ],
   "source": [
    "#cna't use diag on 3D array, 3D array is made with two pairs: [[]] plus\n",
    "#each [] that the values require eg: [[[1, 2, 3], [4, 5, 6]]]\n",
    "A = np.array([[1, 2, 3], [4, 5, 6], [7, 8, 9]])\n",
    "print(A)\n",
    "np.diag(A, k=1)"
   ]
  }
 ],
 "metadata": {
  "kernelspec": {
   "display_name": "Python 3",
   "language": "python",
   "name": "python3"
  },
  "language_info": {
   "codemirror_mode": {
    "name": "ipython",
    "version": 3
   },
   "file_extension": ".py",
   "mimetype": "text/x-python",
   "name": "python",
   "nbconvert_exporter": "python",
   "pygments_lexer": "ipython3",
   "version": "3.11.1"
  },
  "orig_nbformat": 4,
  "vscode": {
   "interpreter": {
    "hash": "bdb715d3f28895bf8d1f1f0337a53a101c9666f588645ae97659721ee0d271c0"
   }
  }
 },
 "nbformat": 4,
 "nbformat_minor": 2
}
