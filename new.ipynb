{
 "cells": [
  {
   "cell_type": "code",
   "execution_count": 20,
   "metadata": {},
   "outputs": [],
   "source": [
    "A = {2, 4, 5, 3, 1, \"apple \", \"card \", \"banana \", \"halo\"}\n",
    "B = {2, 4, 5, 3, 1, 'apple ', 'card ', 'banana ', 'halo'}"
   ]
  },
  {
   "cell_type": "code",
   "execution_count": 26,
   "metadata": {},
   "outputs": [
    {
     "data": {
      "text/plain": [
       "0"
      ]
     },
     "execution_count": 26,
     "metadata": {},
     "output_type": "execute_result"
    }
   ],
   "source": [
    "x = [11, 12, 13, 14, 15]\n",
    "x[2:4]\n",
    "x.index(11)"
   ]
  },
  {
   "cell_type": "code",
   "execution_count": 34,
   "metadata": {},
   "outputs": [
    {
     "data": {
      "text/plain": [
       "dict_values([50, 60, 70])"
      ]
     },
     "execution_count": 34,
     "metadata": {},
     "output_type": "execute_result"
    }
   ],
   "source": [
    "T = {1:50, 2:60, 3:70}\n",
    "T.values()"
   ]
  },
  {
   "cell_type": "code",
   "execution_count": 41,
   "metadata": {},
   "outputs": [
    {
     "data": {
      "text/plain": [
       "7"
      ]
     },
     "execution_count": 41,
     "metadata": {},
     "output_type": "execute_result"
    }
   ],
   "source": [
    "a = 5.5\n",
    "type(a)\n",
    "y = \"message\"\n",
    "y[1:4]\n",
    "len(y)"
   ]
  },
  {
   "cell_type": "code",
   "execution_count": 46,
   "metadata": {},
   "outputs": [
    {
     "data": {
      "text/plain": [
       "'hi       now'"
      ]
     },
     "execution_count": 46,
     "metadata": {},
     "output_type": "execute_result"
    }
   ],
   "source": [
    "s = \"hi       now    \"\n",
    "len(s)\n",
    "str.strip(s)\n"
   ]
  },
  {
   "cell_type": "code",
   "execution_count": 51,
   "metadata": {},
   "outputs": [
    {
     "data": {
      "text/plain": [
       "3"
      ]
     },
     "execution_count": 51,
     "metadata": {},
     "output_type": "execute_result"
    }
   ],
   "source": [
    "i = \"ello    world   \"\n",
    "i.count(\"l\")"
   ]
  },
  {
   "cell_type": "code",
   "execution_count": 56,
   "metadata": {},
   "outputs": [
    {
     "name": "stdout",
     "output_type": "stream",
     "text": [
      "range(0, 5)\n",
      "[0, 1, 2, 3, 4, 5, 6, 7, 8, 9, 10, 11, 12, 13, 14, 15, 16, 17, 18, 19, 20, 21, 22, 23, 24, 25, 26, 27, 28, 29, 30, 31, 32, 33, 34, 35, 36, 37, 38, 39, 40, 41, 42, 43, 44, 45, 46, 47, 48, 49, 50, 51, 52, 53, 54, 55, 56, 57, 58, 59]\n",
      "[1, 2, 3, 4, 5, 6, 7, 8, 9, 10]\n"
     ]
    }
   ],
   "source": [
    "c = range(5)\n",
    "print(c)\n",
    "d = list(range(60))\n",
    "print(d)\n",
    "e = list(range(1, 11))\n",
    "print(e)"
   ]
  },
  {
   "cell_type": "code",
   "execution_count": 58,
   "metadata": {},
   "outputs": [
    {
     "data": {
      "text/plain": [
       "True"
      ]
     },
     "execution_count": 58,
     "metadata": {},
     "output_type": "execute_result"
    }
   ],
   "source": [
    "range(0, 11) == range(10)\n",
    "range(0,11) == range(11)"
   ]
  },
  {
   "cell_type": "code",
   "execution_count": 60,
   "metadata": {},
   "outputs": [
    {
     "data": {
      "text/plain": [
       "9"
      ]
     },
     "execution_count": 60,
     "metadata": {},
     "output_type": "execute_result"
    }
   ],
   "source": [
    "a = list(range(1, 10))\n",
    "len(a)"
   ]
  },
  {
   "cell_type": "code",
   "execution_count": 63,
   "metadata": {},
   "outputs": [
    {
     "name": "stdout",
     "output_type": "stream",
     "text": [
      "[1, 4, 7, 10]\n",
      "[0, 10, 20, 30, 40, 50, 60, 70, 80, 90]\n"
     ]
    }
   ],
   "source": [
    "#start, end, jumps of\n",
    "q = list(range(1, 13, 3))\n",
    "print(q)\n",
    "u = list(range(0, 100, 10))\n",
    "print(u)"
   ]
  },
  {
   "cell_type": "code",
   "execution_count": 96,
   "metadata": {},
   "outputs": [
    {
     "name": "stdout",
     "output_type": "stream",
     "text": [
      "[77, 66, 55, 44]\n",
      "[90, 80, 70, 60, 50, 40, 30, 20, 10]\n"
     ]
    }
   ],
   "source": [
    "l = [11, 22, 33, 44, 55, 66, 77]\n",
    "print(l[6:2:-1])\n",
    "h = [10, 20, 30, 40, 50, 60, 70, 80, 90]\n",
    "print(h[8::-1])"
   ]
  },
  {
   "cell_type": "code",
   "execution_count": 98,
   "metadata": {},
   "outputs": [
    {
     "name": "stdout",
     "output_type": "stream",
     "text": [
      "[17, 27, 6, 4]\n"
     ]
    }
   ],
   "source": [
    "#works as an iterator to return a result after applying a function to every item of an iterable\n",
    "O = [\"Mexico is amazing\", \"CDMX means Ciudad de Mexico\", \"Canada\", \"Cuba\"]\n",
    "Length = list(map(lambda j:len (j), O))\n",
    "print(Length)"
   ]
  },
  {
   "cell_type": "code",
   "execution_count": 102,
   "metadata": {},
   "outputs": [
    {
     "name": "stdout",
     "output_type": "stream",
     "text": [
      "[2, 4] [59, 63, 74, 85]\n"
     ]
    }
   ],
   "source": [
    "A = list(filter(lambda x:x%2 ==0, [1, 2, 3, 4, 5]))\n",
    "marks = [24, 36, 48, 59, 63, 74, 85]\n",
    "B = list(filter(lambda x:x>50, (marks)))\n",
    "print(A, B)"
   ]
  },
  {
   "cell_type": "code",
   "execution_count": 106,
   "metadata": {},
   "outputs": [
    {
     "data": {
      "text/plain": [
       "['My favorite is the bear', 'Real people are the best people']"
      ]
     },
     "execution_count": 106,
     "metadata": {},
     "output_type": "execute_result"
    }
   ],
   "source": [
    "L = [\"Mine\", \"My favorite is the bear\", \"sister\", \"Real people are the best people\"]\n",
    "list(filter(lambda a:len(a)>7, L))"
   ]
  },
  {
   "cell_type": "code",
   "execution_count": 113,
   "metadata": {},
   "outputs": [
    {
     "data": {
      "text/plain": [
       "30"
      ]
     },
     "execution_count": 113,
     "metadata": {},
     "output_type": "execute_result"
    }
   ],
   "source": [
    "\"Python is fun\".split()\n",
    "\n",
    "s = \"Welcome to Data Science Lovers\"\n",
    "s.split()\n",
    "len(s)"
   ]
  },
  {
   "cell_type": "code",
   "execution_count": 114,
   "metadata": {},
   "outputs": [
    {
     "data": {
      "text/plain": [
       "5"
      ]
     },
     "execution_count": 114,
     "metadata": {},
     "output_type": "execute_result"
    }
   ],
   "source": [
    "a = s.split()\n",
    "len(a)"
   ]
  },
  {
   "cell_type": "code",
   "execution_count": 124,
   "metadata": {},
   "outputs": [
    {
     "name": "stdout",
     "output_type": "stream",
     "text": [
      "['S1: Hi all', ' today', \" we're learning Python\", ' yay']\n",
      "4\n",
      "['S2:', 'Hi', 'all,', 'today,', \"we're\", 'learning', 'Python,', 'yay']\n"
     ]
    },
    {
     "data": {
      "text/plain": [
       "8"
      ]
     },
     "execution_count": 124,
     "metadata": {},
     "output_type": "execute_result"
    }
   ],
   "source": [
    "s1 = \"S1: Hi all, today, we're learning Python, yay\"\n",
    "s1s = s1.split(\",\")\n",
    "print(s1s)\n",
    "print(len(s1s))\n",
    "\n",
    "\n",
    "s2 = \"S2: Hi all, today, we're learning Python, yay\"\n",
    "s2s = s2.split()\n",
    "print(s2s)\n",
    "len(s2s)\n"
   ]
  },
  {
   "cell_type": "code",
   "execution_count": null,
   "metadata": {},
   "outputs": [],
   "source": [
    "#maxsplit will show specified number + 1\n",
    "s3 = \"We're learning Python for DataScience\"\n",
    "s3.split(' ', 3)\n",
    "#enumerate !!!!!!!!\n",
    "tuple(enumerate(s3))"
   ]
  },
  {
   "cell_type": "code",
   "execution_count": 132,
   "metadata": {},
   "outputs": [
    {
     "name": "stdout",
     "output_type": "stream",
     "text": [
      "HELLO WORLD WE ARE LEARNING PYTHON TODAY\n"
     ]
    }
   ],
   "source": [
    "x = \"HELLO WORLD\"\n",
    "y = \"WE ARE LEARNING PYTHON TODAY\"\n",
    "con = lambda x, y:print(x + \" \" + y)\n",
    "con(x, y)"
   ]
  },
  {
   "cell_type": "code",
   "execution_count": 133,
   "metadata": {},
   "outputs": [
    {
     "name": "stdout",
     "output_type": "stream",
     "text": [
      "no\n"
     ]
    }
   ],
   "source": [
    "#short way of writing print if else \n",
    "x = 100\n",
    "y = 200\n",
    "\n",
    "print(\"yes\") if x>y else print(\"no\")"
   ]
  },
  {
   "cell_type": "code",
   "execution_count": 134,
   "metadata": {},
   "outputs": [
    {
     "name": "stdout",
     "output_type": "stream",
     "text": [
      "PYthon\n",
      "Data science\n",
      "Machine learning\n"
     ]
    }
   ],
   "source": [
    "DSL = \"PYthon\", \"Data science\", \"Machine learning\", \"statistics\", \"artificial intelligence\"\n",
    "\n",
    "for i in DSL:\n",
    "  print(i)\n",
    "  if i == \"Machine learning\":\n",
    "    break"
   ]
  },
  {
   "cell_type": "code",
   "execution_count": 140,
   "metadata": {},
   "outputs": [
    {
     "name": "stdout",
     "output_type": "stream",
     "text": [
      "Python\n",
      "Data science\n",
      "statistics\n",
      "artificial intelligence\n",
      "\n",
      "\n",
      "Python\n",
      "Data science\n",
      "Machine learning\n",
      "statistics\n",
      "artificial intelligence\n"
     ]
    }
   ],
   "source": [
    "DSL = \"Python\", \"Data science\", \"Machine learning\", \"statistics\", \"artificial intelligence\"\n",
    "\n",
    "for i in DSL:\n",
    "  if i == \"Machine learning\":\n",
    "    continue\n",
    "  print(i)\n",
    "\n",
    "  DSL = \"Python\", \"Data science\", \"Machine learning\", \"statistics\", \"artificial intelligence\"\n",
    "\n",
    "print(\"\\n\")\n",
    "for j in DSL:\n",
    "  print(j)\n",
    "  if j == \"Machine learning\":\n",
    "    continue"
   ]
  }
 ],
 "metadata": {
  "kernelspec": {
   "display_name": "Python 3",
   "language": "python",
   "name": "python3"
  },
  "language_info": {
   "codemirror_mode": {
    "name": "ipython",
    "version": 3
   },
   "file_extension": ".py",
   "mimetype": "text/x-python",
   "name": "python",
   "nbconvert_exporter": "python",
   "pygments_lexer": "ipython3",
   "version": "3.11.1"
  },
  "orig_nbformat": 4,
  "vscode": {
   "interpreter": {
    "hash": "bdb715d3f28895bf8d1f1f0337a53a101c9666f588645ae97659721ee0d271c0"
   }
  }
 },
 "nbformat": 4,
 "nbformat_minor": 2
}
